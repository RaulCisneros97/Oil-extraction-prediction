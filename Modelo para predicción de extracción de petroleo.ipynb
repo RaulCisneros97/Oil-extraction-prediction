{
 "cells": [
  {
   "cell_type": "markdown",
   "metadata": {},
   "source": [
    "# ¿En que región invertir en el desarrollo de pozos petroleros?"
   ]
  },
  {
   "cell_type": "markdown",
   "metadata": {},
   "source": [
    "## Preparación de datos"
   ]
  },
  {
   "cell_type": "markdown",
   "metadata": {},
   "source": [
    "### Importación de librerias y bases de datos"
   ]
  },
  {
   "cell_type": "code",
   "execution_count": 1,
   "metadata": {},
   "outputs": [
    {
     "name": "stdout",
     "output_type": "stream",
     "text": [
      "<class 'pandas.core.frame.DataFrame'>\n",
      "RangeIndex: 100000 entries, 0 to 99999\n",
      "Data columns (total 5 columns):\n",
      " #   Column   Non-Null Count   Dtype  \n",
      "---  ------   --------------   -----  \n",
      " 0   id       100000 non-null  object \n",
      " 1   f0       100000 non-null  float64\n",
      " 2   f1       100000 non-null  float64\n",
      " 3   f2       100000 non-null  float64\n",
      " 4   product  100000 non-null  float64\n",
      "dtypes: float64(4), object(1)\n",
      "memory usage: 3.8+ MB\n",
      "None\n",
      "<class 'pandas.core.frame.DataFrame'>\n",
      "RangeIndex: 100000 entries, 0 to 99999\n",
      "Data columns (total 5 columns):\n",
      " #   Column   Non-Null Count   Dtype  \n",
      "---  ------   --------------   -----  \n",
      " 0   id       100000 non-null  object \n",
      " 1   f0       100000 non-null  float64\n",
      " 2   f1       100000 non-null  float64\n",
      " 3   f2       100000 non-null  float64\n",
      " 4   product  100000 non-null  float64\n",
      "dtypes: float64(4), object(1)\n",
      "memory usage: 3.8+ MB\n",
      "None\n",
      "<class 'pandas.core.frame.DataFrame'>\n",
      "RangeIndex: 100000 entries, 0 to 99999\n",
      "Data columns (total 5 columns):\n",
      " #   Column   Non-Null Count   Dtype  \n",
      "---  ------   --------------   -----  \n",
      " 0   id       100000 non-null  object \n",
      " 1   f0       100000 non-null  float64\n",
      " 2   f1       100000 non-null  float64\n",
      " 3   f2       100000 non-null  float64\n",
      " 4   product  100000 non-null  float64\n",
      "dtypes: float64(4), object(1)\n",
      "memory usage: 3.8+ MB\n",
      "None\n"
     ]
    }
   ],
   "source": [
    "# Comenzaremos con importar librerias e importar las bases de datos\n",
    "\n",
    "import pandas as pd\n",
    "import numpy as np\n",
    "from sklearn.linear_model import LinearRegression\n",
    "from sklearn.model_selection import train_test_split\n",
    "from sklearn.metrics import mean_squared_error\n",
    "\n",
    "df1 = pd.read_csv('geo_data_0.csv')\n",
    "df2 = pd.read_csv('geo_data_1.csv')\n",
    "df3 = pd.read_csv('geo_data_2.csv')\n",
    "\n",
    "df1.name = 'Región 1'\n",
    "df2.name = 'Región 2'\n",
    "df3.name = 'Región 3'\n",
    "\n",
    "print(df1.info())\n",
    "print(df2.info())\n",
    "print(df3.info())\n"
   ]
  },
  {
   "cell_type": "code",
   "execution_count": 2,
   "metadata": {
    "scrolled": true
   },
   "outputs": [
    {
     "name": "stdout",
     "output_type": "stream",
     "text": [
      "      id        f0        f1        f2     product\n",
      "0  txEyH  0.705745 -0.497823  1.221170  105.280062\n",
      "1  2acmU  1.334711 -0.340164  4.365080   73.037750\n",
      "2  409Wp  1.022732  0.151990  1.419926   85.265647\n",
      "3  iJLyR -0.032172  0.139033  2.978566  168.620776\n",
      "4  Xdl7t  1.988431  0.155413  4.751769  154.036647\n",
      "      id         f0         f1        f2     product\n",
      "0  kBEdx -15.001348  -8.276000 -0.005876    3.179103\n",
      "1  62mP7  14.272088  -3.475083  0.999183   26.953261\n",
      "2  vyE1P   6.263187  -5.948386  5.001160  134.766305\n",
      "3  KcrkZ -13.081196 -11.506057  4.999415  137.945408\n",
      "4  AHL4O  12.702195  -8.147433  5.004363  134.766305\n",
      "      id        f0        f1        f2     product\n",
      "0  fwXo0 -1.146987  0.963328 -0.828965   27.758673\n",
      "1  WJtFt  0.262778  0.269839 -2.530187   56.069697\n",
      "2  ovLUW  0.194587  0.289035 -5.586433   62.871910\n",
      "3  q6cA6  2.236060 -0.553760  0.930038  114.572842\n",
      "4  WPMUX -0.515993  1.716266  5.899011  149.600746\n"
     ]
    }
   ],
   "source": [
    "#Vamos a imprimir las primeras filas de nuestras bases de datos para entender el contenido\n",
    "print(df1.head())\n",
    "print(df2.head())\n",
    "print(df3.head())"
   ]
  },
  {
   "cell_type": "code",
   "execution_count": 3,
   "metadata": {},
   "outputs": [
    {
     "name": "stdout",
     "output_type": "stream",
     "text": [
      "10\n",
      "4\n",
      "4\n"
     ]
    }
   ],
   "source": [
    "# Vamos a buscar valores duplicados en nuestros datasets\n",
    "\n",
    "def dup (data):\n",
    "    return data['id'].duplicated().sum()\n",
    "\n",
    "print(dup(df1))\n",
    "print(dup(df2))\n",
    "print(dup(df3))"
   ]
  },
  {
   "cell_type": "code",
   "execution_count": 4,
   "metadata": {},
   "outputs": [
    {
     "name": "stdout",
     "output_type": "stream",
     "text": [
      "          id        f0        f1         f2     product\n",
      "931    HZww2  0.755284  0.368511   1.863211   30.681774\n",
      "1364   bxg6G  0.411645  0.856830  -3.653440   73.604260\n",
      "1949   QcMuo  0.506563 -0.323775  -2.215583   75.496502\n",
      "3389   A5aEY -0.039949  0.156872   0.209861   89.249364\n",
      "7530   HZww2  1.061194 -0.373969  10.430210  158.828695\n",
      "16633  fiKDv  0.157341  1.028359   5.585586   95.817889\n",
      "21426  Tdehs  0.829407  0.298807  -0.049563   96.035308\n",
      "41724  bxg6G -0.823752  0.546319   3.630479   93.007798\n",
      "42529  AGS9W  1.454747 -0.479651   0.683380  126.370504\n",
      "51970  A5aEY -0.180335  0.935548  -2.094773   33.020205\n",
      "60140  TtcGQ  0.569276 -0.104876   6.440215   85.350186\n",
      "63593  QcMuo  0.635635 -0.473422   0.862670   64.578675\n",
      "64022  74z30  0.741456  0.459229   5.153109  140.771492\n",
      "66136  74z30  1.084962 -0.312358   6.990771  127.643327\n",
      "69163  AGS9W -0.933795  0.116194  -3.655896   19.230453\n",
      "75715  Tdehs  0.112079  0.430296   3.218993   60.964018\n",
      "89582  bsk9y  0.398908 -0.400253  10.122376  163.433078\n",
      "90815  fiKDv  0.049883  0.841313   6.394613  137.346586\n",
      "92341  TtcGQ  0.110711  1.022689   0.911381  101.318008\n",
      "97785  bsk9y  0.378429  0.005837   0.160827  160.637302\n",
      "\n",
      "\n",
      "          id         f0         f1        f2     product\n",
      "1305   LHZR0  11.170835  -1.945066  3.002872   80.859783\n",
      "2721   bfPNe  -9.494442  -5.463692  4.006042  110.992147\n",
      "5849   5ltQ6  -3.435401 -12.296043  1.999796   57.085625\n",
      "41906  LHZR0  -8.989672  -4.286607  2.009139   57.085625\n",
      "47591  wt4Uk  -9.091098  -8.109279 -0.002314    3.179103\n",
      "82178  bfPNe  -6.202799  -4.820045  2.995107   84.038886\n",
      "82873  wt4Uk  10.259972  -9.376355  4.994297  134.766305\n",
      "84461  5ltQ6  18.213839   2.191999  3.993869  107.813044\n",
      "\n",
      "\n",
      "          id        f0        f1        f2     product\n",
      "11449  VF7Jo  2.122656 -0.858275  5.746001  181.716817\n",
      "28039  xCHr8  1.633027  0.368135 -2.378367    6.120525\n",
      "43233  xCHr8 -0.847066  2.101796  5.597130  184.388641\n",
      "44378  Vcm5J -1.229484 -2.439204  1.222909  137.968290\n",
      "45404  KUPhW  0.231846 -1.698941  4.990775   11.716299\n",
      "49564  VF7Jo -0.883115  0.560537  0.723601  136.233420\n",
      "55967  KUPhW  1.211150  3.176408  5.543540  132.831802\n",
      "95090  Vcm5J  2.587702  1.986875  2.482245   92.327572\n",
      "\n",
      "\n",
      "\n",
      "\n",
      "count    100000.000000\n",
      "mean         92.500000\n",
      "std          44.288691\n",
      "min           0.000000\n",
      "25%          56.497507\n",
      "50%          91.849972\n",
      "75%         128.564089\n",
      "max         185.364347\n",
      "Name: product, dtype: float64\n",
      "count    100000.000000\n",
      "mean         68.825000\n",
      "std          45.944423\n",
      "min           0.000000\n",
      "25%          26.953261\n",
      "50%          57.085625\n",
      "75%         107.813044\n",
      "max         137.945408\n",
      "Name: product, dtype: float64\n",
      "count    100000.000000\n",
      "mean         95.000000\n",
      "std          44.749921\n",
      "min           0.000000\n",
      "25%          59.450441\n",
      "50%          94.925613\n",
      "75%         130.595027\n",
      "max         190.029838\n",
      "Name: product, dtype: float64\n"
     ]
    }
   ],
   "source": [
    "# Vamos a imprimir aquellas filas que tienen 'id' duplicado para evaluar su contenido\n",
    "\n",
    "def duplicated (data):\n",
    "    df_dup = data[data['id'].duplicated(keep=False)]\n",
    "    return (df_dup)\n",
    "\n",
    "print(duplicated(df1))\n",
    "print('\\n')\n",
    "print(duplicated(df2))\n",
    "print('\\n')\n",
    "print(duplicated(df3))\n",
    "print('\\n')\n",
    "print('\\n')\n",
    "\n",
    "#Vamos a obtener las principales medidas estadisticas de los dataset de cada región\n",
    "print(df1['product'].describe())\n",
    "print(df2['product'].describe())\n",
    "print(df3['product'].describe())"
   ]
  },
  {
   "cell_type": "markdown",
   "metadata": {},
   "source": [
    "### Conclusión sobre la preparación de datos\n",
    "\n",
    "#### Contenido del dataset\n",
    "Contamos con 3 bases de datos, una base de datos con la información de los pozos petroleros de cada región a analizar.\n",
    "Cada base de datos cuenta con 100000 filas con los parametros de cada pozo petrolero analizado.\n",
    "\n",
    "#### Tipo de variables\n",
    "El tipo de las variables es el correcto, la primer columna que nos muestra el ID del pozo tiene un tipo 'Object', mientras que las columnas restantes llevan un tipo 'float' ya que se trata de los parametros de los pozos petroleros y el volumen de producción de barriles de crudo en la columna 'product'.\n",
    "\n",
    "#### Valores ausentes o duplicados\n",
    "En sus 100000 filas de cada dataset, no contamos con ningún valor ausente.\n",
    "\n",
    "Para los valores duplicados, encontramos ID´s duplicados para las 3 regiones; 10, 4 y 4 ID´s duplicados respectivamente.\n",
    "Antes de buscar eliminarlas, vemos que el volumén de producción de petroleo para esos pozos, en su mayoria están por arriba de la media de produccción de cada región. Es decir, al eliminarlos, estariamos eliminando información de pozos con muy buen volumen de producción que al final es lo que estamos buscando.\n",
    "Por esto, y por la minima cantidad de filas que son (10/100000 -> 0.01%) vamos a dejarlas ya que no tenemos más contexto de estas lecturas. Puede que sean dos exploraciones para un mismo pozo pero en años distintos. Al no conocer más contexto de estas bases de datos, vamos a dejar esa minima proporción de valores duplicados en nuetsros datasets.\n",
    "\n",
    "\n",
    "#### Categorización de características\n",
    "El objetivo es predecir la región con un mayor beneficio para la producción de petroleo, por eso es vital predecir la cantidad de petroleo a producir de cada región. Esto nos indica que nuestra variable objetivo será 'product' y nuestras carácteristicas en las cuales nuestro modelo se basará y entrenará para obtener las predicciones serán 'f0', 'f1' y 'f2'."
   ]
  },
  {
   "cell_type": "markdown",
   "metadata": {},
   "source": [
    "## Entrenamiento del modelo"
   ]
  },
  {
   "cell_type": "markdown",
   "metadata": {},
   "source": [
    "### Entrenamiento y evaluación del modelo"
   ]
  },
  {
   "cell_type": "code",
   "execution_count": 5,
   "metadata": {},
   "outputs": [
    {
     "name": "stdout",
     "output_type": "stream",
     "text": [
      "El resultado del error cuadrático medio del modelo es de: 1412.2129364399243\n",
      "El resultado del RECM en el conjunto de validación es de: 37.5794217150813\n",
      "La media de las predicciones de reservas de petróleo es de: 92.59256778438035\n"
     ]
    }
   ],
   "source": [
    "#Comenzamos en crear nuestras caracteristicas y objetivo\n",
    "\n",
    "df1_features = df1.drop(['id','product'], axis=1)\n",
    "df1_target = df1['product']\n",
    "\n",
    "# Seguimos dividiendo nuestro dataset en dataset de entrenamiento y valdiación\n",
    "\n",
    "df1_features_train, df1_features_valid, df1_target_train, df1_target_valid = train_test_split(df1_features, df1_target, train_size=0.75, random_state=12345)\n",
    "\n",
    "# Vamos a entrenar nuestro modelo y a probarlo\n",
    "\n",
    "model = LinearRegression()\n",
    "model.fit(df1_features_train, df1_target_train)\n",
    "predictions_valid = model.predict(df1_features_valid)\n",
    "\n",
    "# Vamos a evaluar a nuestro modelo\n",
    "\n",
    "result = mean_squared_error(df1_target_valid, predictions_valid)\n",
    "print(\"El resultado del error cuadrático medio del modelo es de:\", result)\n",
    "print(\"El resultado del RECM en el conjunto de validación es de:\", result**0.5)\n",
    "print(\"La media de las predicciones de reservas de petróleo es de:\", predictions_valid.mean())"
   ]
  },
  {
   "cell_type": "code",
   "execution_count": 6,
   "metadata": {
    "scrolled": true
   },
   "outputs": [
    {
     "name": "stdout",
     "output_type": "stream",
     "text": [
      "El resultado del error cuadrático medio del modelo es de: 1961.25217668797\n",
      "El resultado del RECM en el conjunto de validación es de: 44.28602687855358\n"
     ]
    }
   ],
   "source": [
    "# Vamos a hacer una prueba de cordura al modelo\n",
    "\n",
    "predictions_trial = pd.Series(df1_target_valid.mean(), index=df1_target_valid.index)\n",
    "result_trial = mean_squared_error(df1_target_valid, predictions_trial)\n",
    "print(\"El resultado del error cuadrático medio del modelo es de:\", result_trial)\n",
    "print(\"El resultado del RECM en el conjunto de validación es de:\", result_trial**0.5)"
   ]
  },
  {
   "cell_type": "markdown",
   "metadata": {},
   "source": [
    "### Conclusión sobre el entrenamiento\n",
    "\n",
    "Dadas las condiciones del proyecto, solo se permite entrenar al modelo usando Regresión Lineal. \n",
    "Utilizamos el dataset de la región 1 para entrenar el modelo y obtener las métricas de evaluación del modelo como el MSE y RSME.\n",
    "Es importante recordar que el MSE es la media del error entre las observaciones para el conjunto de validación y las predicciones del modelo. Sin embargo, el MSE no esta en las unidades de la caracteristica objetivo. Por eso calculamos el RSME que ya esta en las unidades que buscamos y nos es mejor la interpretación.\n",
    "\n",
    "Como resultado obtuvimos que las predicciones del modelo tienen en promedio un error de 37.57 miles de barriles de diferencia. ¿Es esto un error aceptable? Al ver las medidas de  estadistica descriptiva de la región 1, como el promedio que es de 92 miles de barriles y el valor para el cuartil 25% es de 56 miles de barriles, y nuestro RSME es menor que estos valores. Por lo que puedo concluir que el error es aceptable y podemos utilizar este mdoelo para obtener las predicciones de las 3 regiones.\n",
    "\n",
    "Para confirmar nuestra decisión anterior, realizamos una prueba de cordura el modelo donde para calcular el RSME se toma la media de todas las observaciones en lugar de las predicciones del modelo. ¡El RSME es mayor que el que obtuvimos con la Regresión Lineal! Por esto, podemos seguir trabajando con nuestro modelo.\n",
    "\n",
    "Ahora trabajaremos en la función para obtener las predicciones para las 3 regiones y calcular las metricas de precisión (MSE y RSME)"
   ]
  },
  {
   "cell_type": "markdown",
   "metadata": {},
   "source": [
    "### Cálculo de predicciones para las 3 zonas de estudio"
   ]
  },
  {
   "cell_type": "code",
   "execution_count": 7,
   "metadata": {},
   "outputs": [
    {
     "name": "stdout",
     "output_type": "stream",
     "text": [
      "Los datos de la región Región 1 fueron analizados y entrenados. La predicción media de volumen de petróleo es de 92.59256778438035 mientras que el RSME de las predicciones es de 37.5794217150813\n",
      "\n",
      "\n",
      "Los datos de la región Región 2 fueron analizados y entrenados. La predicción media de volumen de petróleo es de 68.72854689544602 mientras que el RSME de las predicciones es de 0.8930992867756165\n",
      "\n",
      "\n",
      "Los datos de la región Región 3 fueron analizados y entrenados. La predicción media de volumen de petróleo es de 94.96504596800489 mientras que el RSME de las predicciones es de 40.02970873393434\n",
      "\n",
      "\n"
     ]
    }
   ],
   "source": [
    "# Vamos a crear una función para obtener las predicciones de reservas de petróleo para los 3 dataset (regiones)\n",
    "\n",
    "def predictions (data, col1, col2):\n",
    "    \n",
    "    df_features = data.drop(columns=[col1, col2], axis=1)\n",
    "    df_target = data[col2]\n",
    "    \n",
    "    df_features_train, df_features_valid, df_target_train, df_target_valid = train_test_split(df_features, df_target, train_size=0.75, random_state=12345)\n",
    "    \n",
    "    model = LinearRegression()\n",
    "    model.fit(df_features_train, df_target_train)\n",
    "    predictions_valid = model.predict(df_features_valid)\n",
    "    \n",
    "    result = mean_squared_error(df_target_valid, predictions_valid)\n",
    "    rsme = result**0.5\n",
    "    predict_mean = predictions_valid.mean()\n",
    "    \n",
    "    message = print(f\"Los datos de la región {data.name} fueron analizados y entrenados. La predicción media de volumen de petróleo es de {predict_mean} mientras que el RSME de las predicciones es de {rsme}\")\n",
    "    \n",
    "    return message, predictions_valid\n",
    "\n",
    "list = [df1, df2, df3]\n",
    "\n",
    "for value in list:\n",
    "    predictions(value, col1='id', col2='product')\n",
    "    print('\\n')"
   ]
  },
  {
   "cell_type": "markdown",
   "metadata": {},
   "source": [
    "### Conclusión sobre predicciones sobre las 3 regiones\n",
    "\n",
    "Se uso un modelo de Regresión Lineal para entrenar y predecir el volumen de producción petrolero para cada una de las regiones de las cuales se exploraron y tenemos sus propiedades.\n",
    "\n",
    "La Región 3 (geo_data_2) es la que obtuvo la media mayor con 94.96 miles de barriles de petróleo. Sin embargo, el modelo cuenta con un RSME de 40, es decir que se puede tener en promedio un error de 40 miles de barriles en cada predicción. Este error puede ser, ya sea hacia más o menos y si fuese a más seria el mejor escenario para las ganancias de la empresa petrolera.\n",
    "\n",
    "Por otra parte, la Región 2 fue la que tiene la media más baja de producción petrolera con 68.72 miles de barriles con un RSME de 0.9. Es decir que este modelo es MUY EXACTO, podemos saber con certeza el volumen de producción petrolero. Sin embargo, de las tres regios es la que menos dividendos dejará a la compañia.\n",
    "\n",
    "Finalmente, hay un dato que es importante. El valor del primer cuartil (25%), del dataset fuente, de la región 3 es de 60 miles de barriles, cerca de los 69 miles de la media de la Región 2. A pesar de que hay más incertidumbre en las predicciones de la Región 3, en casa de que la productividad del pozo petrolero vaya a niveles minimos, va a estar dentro de niveles aceptables de producción si lo comparamos con la Región 2. Por lo tanto, a pesar de la incertidumbre, es mejor realizar inversión en la Región 3 que es la que tiene una predicción mayor de volumen petrólero, a pesar de la poca exactitud de las predicciones pero que si nos da una tendencia para el futuro."
   ]
  },
  {
   "cell_type": "markdown",
   "metadata": {},
   "source": [
    "## Preparación para elección de pozos petroleros y cálculo de ganancias"
   ]
  },
  {
   "cell_type": "markdown",
   "metadata": {},
   "source": [
    "### Variables para cálculo de ganancias"
   ]
  },
  {
   "cell_type": "code",
   "execution_count": 8,
   "metadata": {
    "scrolled": true
   },
   "outputs": [
    {
     "name": "stdout",
     "output_type": "stream",
     "text": [
      "count    25000.000000\n",
      "mean        92.592568\n",
      "std         23.176994\n",
      "min         -9.367846\n",
      "25%         76.652232\n",
      "50%         92.661884\n",
      "75%        108.437632\n",
      "max        180.180713\n",
      "dtype: float64\n",
      "count    25000.000000\n",
      "mean        68.728547\n",
      "std         46.010225\n",
      "min         -1.893774\n",
      "25%         28.536661\n",
      "50%         57.851586\n",
      "75%        109.346485\n",
      "max        139.818970\n",
      "dtype: float64\n",
      "count    25000.000000\n",
      "mean        94.965046\n",
      "std         19.853733\n",
      "min         17.131597\n",
      "25%         81.388500\n",
      "50%         95.031204\n",
      "75%        108.492663\n",
      "max        165.856833\n",
      "dtype: float64\n"
     ]
    }
   ],
   "source": [
    "# Vamos a crear las variables para el calculo de ganancias\n",
    "\n",
    "budget = 100000000 #presupuesto de inversión para 200 pozos petroleros\n",
    "income_rate = 4500 #ingreso por unidad de producto\n",
    "\n",
    "# Vamos de nuevo a crear la función para entrenar el modelo, solo que esta vez nos arrojará la lista con las predicciones de cada región\n",
    "# Estas listas las vamos a necesitar para posteriormente calcular el beneficio\n",
    "\n",
    "def predicciones_oil (data, col1, col2):\n",
    "    \n",
    "    df_features = data.drop(columns=[col1, col2], axis=1)\n",
    "    df_target = data[col2]\n",
    "    \n",
    "    df_features_train, df_features_valid, df_target_train, df_target_valid = train_test_split(df_features, df_target, train_size=0.75, random_state=12345)\n",
    "    \n",
    "    model = LinearRegression()\n",
    "    model.fit(df_features_train, df_target_train)\n",
    "    predictions_valid = model.predict(df_features_valid)\n",
    "    \n",
    "    return predictions_valid\n",
    "\n",
    "df1_predict = predicciones_oil(df1, col1='id', col2='product')\n",
    "df2_predict = predicciones_oil(df2, col1='id', col2='product')\n",
    "df3_predict = predicciones_oil(df3, col1='id', col2='product')\n",
    "\n",
    "#Convertimos los array en archivos tipo Series para calcular sus estadisticas descriptivas\n",
    "\n",
    "list_df = [df1_predict, df2_predict, df3_predict]\n",
    "\n",
    "for element in list_df:\n",
    "    element = pd.Series(element)\n",
    "    print(element.describe())\n",
    "\n",
    "\n",
    "\n",
    "\n"
   ]
  },
  {
   "cell_type": "markdown",
   "metadata": {},
   "source": [
    "### Filtrando las predicciones a utilizar para cálculo de Beneficio"
   ]
  },
  {
   "cell_type": "code",
   "execution_count": 9,
   "metadata": {},
   "outputs": [
    {
     "name": "stdout",
     "output_type": "stream",
     "text": [
      "2067    180.180713\n",
      "42      176.252213\n",
      "2220    175.850623\n",
      "2546    175.658429\n",
      "5107    173.299686\n",
      "           ...    \n",
      "1742    148.507064\n",
      "1743    148.481767\n",
      "5247    148.476498\n",
      "5276    148.436761\n",
      "4448    148.365941\n",
      "Length: 200, dtype: float64\n",
      "3861    139.818970\n",
      "1486    139.773423\n",
      "1659    139.703330\n",
      "223     139.560938\n",
      "844     139.516754\n",
      "           ...    \n",
      "2419    138.421423\n",
      "1538    138.416960\n",
      "424     138.413881\n",
      "3240    138.412834\n",
      "1835    138.410697\n",
      "Length: 200, dtype: float64\n",
      "4765    165.856833\n",
      "5206    165.679685\n",
      "1670    163.439962\n",
      "329     162.062589\n",
      "1425    161.797476\n",
      "           ...    \n",
      "1175    142.490763\n",
      "3782    142.485922\n",
      "2357    142.465777\n",
      "4777    142.454763\n",
      "4947    142.408851\n",
      "Length: 200, dtype: float64\n"
     ]
    }
   ],
   "source": [
    "# Vamos a filtrar aquellas predicciones mayores a 111 mil barriles petroleo\n",
    "# Nos vamos a quedar unicamente con las 200 pozos con mayor volumen de producción para cada región\n",
    "df1_chosen = []\n",
    "df2_chosen = []\n",
    "df3_chosen = []\n",
    "\n",
    "list_df = [df1_predict, df2_predict, df3_predict]\n",
    "new_list = [df1_chosen, df2_chosen, df3_chosen]\n",
    "\n",
    "for i, element in enumerate(list_df):  \n",
    "    filtered = element[element > 111]  # Filtrar valores mayores a 111\n",
    "    filtered = pd.Series(filtered)  \n",
    "    filtered = filtered.sort_values(ascending=False).head(200)  # Ordenar y tomar top 200\n",
    "    new_list[i] = filtered  # Guardar lista de pozos elegidos en una nueva variable\n",
    "\n",
    "# Imprimir los resultados\n",
    "for value in new_list:\n",
    "    print(value)\n",
    "\n"
   ]
  },
  {
   "cell_type": "markdown",
   "metadata": {},
   "source": [
    "### Conclusión sobre la preparación para el cálculo del beneficio\n",
    "\n",
    "Tenemos dos variables generales para el caso de estudio: el presupuesto de inversión de 100 millones de USD y el ingreso por cada producción de mil barriles de petrolero que son 4,500 USD.\n",
    "\n",
    "Ahora, el objetivo es determinar la región con mayor beneficio. Tenemos que obtener los datos de cada región que necesitamos utilizar para calcularlo, pero acá también tenemos un par de condiciones:\n",
    "    1) El presupuesto de inversión es para construir 200 pozos unicamente.\n",
    "    2) El volumén minimo de barriles debe ser de 111 para considerar que el pozo no tendrá perdidas *\n",
    "    \n",
    "Analizando esta ultima condición, es por eso que calculamos las medidas descriptivas de las predicciones para cada región.\n",
    "\n",
    "Al analizar las medias de las predicciones de las 3 regiones, el promedio de volumen de barriles está por debajo de lo minimo necesario para considerar un área para su explotación.\n",
    "Para la región 1 y 3, solo el 25% del total de predicciones superan los 111 miles de barriles. Sin embargo, 25% de 25,000 es suficiente para elegir los 200 mejores. Para el caso de la región 2, no podemos asegurarlo ya que el valor del 3er cuartil está por debajo de los 111 miles de barriles.\n",
    "\n",
    "Por esto, en el ultimo bloque se creó un bucle FOR que nos permitió obtener los 200 pozos más productivos de cada región, con base en nuestras predicciones, y que cumplieran con el volumen minimo de producción, es decir, que cumplieran con las CONDICIONES del proyecto.  De esta forma poder decidir en que región invertir el presupuesto destinado para la explotación de pozos petroleros.\n",
    "\n",
    "Siguiente paso: Crear función para calcular el benéficio de cada región con base en las variables creadas en este paso 3.\n"
   ]
  },
  {
   "cell_type": "markdown",
   "metadata": {},
   "source": [
    "## Cálculo de ganancias"
   ]
  },
  {
   "cell_type": "markdown",
   "metadata": {},
   "source": [
    "### Cálculo de la ganancia por región "
   ]
  },
  {
   "cell_type": "code",
   "execution_count": 10,
   "metadata": {},
   "outputs": [
    {
     "name": "stdout",
     "output_type": "stream",
     "text": [
      "La ganancia para la región 1 es de:\n",
      "39960488.77465126\n",
      "\n",
      "\n",
      "La ganancia para la región 2 es de:\n",
      "24857120.519735634\n",
      "\n",
      "\n",
      "La ganancia para la región 3 es de:\n",
      "33217543.962432683\n",
      "\n",
      "\n"
     ]
    }
   ],
   "source": [
    "# Vamos a crear una función para cálcular las ganancias para cada región con base a los pozos petroleros escogidos por nuestro modelo\n",
    "\n",
    "def profit (list, budget=100000000, income_rate=4500):\n",
    "    \n",
    "    total_volume = 0\n",
    "    for value in list:\n",
    "        total_volume += value #Se obtiene la suma total de producción por región\n",
    "    \n",
    "    income = total_volume * income_rate #Se calcula la cantidad de USD por la venta de la producción de petroleo\n",
    "    \n",
    "    result = income - budget #Se obtiene la ganancia: ingreso - costo\n",
    "    \n",
    "    return result\n",
    "\n",
    "i=1\n",
    "for lista in new_list:\n",
    "    print(f\"La ganancia para la región {i} es de:\")\n",
    "    print(profit(lista))\n",
    "    print(\"\\n\")\n",
    "    i+=1"
   ]
  },
  {
   "cell_type": "markdown",
   "metadata": {},
   "source": [
    "### Conclusión sobre el cálculo de ganancias\n",
    "\n",
    "¡La región No. 1 fue la que obtuvo mayores ganancias! \n",
    "\n",
    "A pesar de que la región 3 era la región que tenia una media más alta en las predicciones del modelo y que tenía mayor cantidad de pozos con producciones petroelras arriba de lo minimo requerido para la inversión, la región 1 obtuvo un mayor margen de ganancias. \n",
    "\n",
    "Esto se debe a que probablemente aquellos pozos dentro del 3er quartil, tenian mayor predicción de producción que los de la región 3. Y eso lo podemos confirmar cuando ordenamos los datos de los 200 pozos con mayor predicción de cada región, para la región 1 el valor maximo de un pozo era de 180 miles de barriles, mientras que para la región 3 era de 165 miles de barriles.\n",
    "\n",
    "Antes de ejecutar las condiciones del proyecto, podiamos concluir que la región 3 era, en papel, la más ideal para la inversión. Sin embargo, al ejecutar las condiciones y hacer el cálculo de las ganancias, es la región 1 la ideal para el proyecto de inversión de la empresa."
   ]
  },
  {
   "cell_type": "markdown",
   "metadata": {},
   "source": [
    "## Cálculo de riesgo y ganancias"
   ]
  },
  {
   "cell_type": "code",
   "execution_count": 11,
   "metadata": {},
   "outputs": [],
   "source": [
    "# Vamos a utilizar una función para calcular las ganancias pero usando BootStrapping sobre las predicciones de nuestro modelo\n",
    "\n",
    "df1_chosen = pd.Series(new_list[0])\n",
    "df2_chosen = pd.Series(new_list[1])\n",
    "df3_chosen = pd.Series(new_list[2])\n",
    "\n",
    "\n",
    "def bootstrapping (data):\n",
    "    \n",
    "    state = np.random.RandomState(12345)\n",
    "\n",
    "    values = []\n",
    "\n",
    "    for i in range (1000):\n",
    "        predic_subsample = data.sample(frac=0.25, random_state=state, replace=True) #Se obtienen submuestras tomado 25% de las predicciones\n",
    "        profit = ((predic_subsample.sum())*4500)-(100000000*0.25) #Se calcula lo proporcional del presupuesto con base en el tamaño de la muestra\n",
    "        values.append(profit)\n",
    "    return values\n",
    "\n",
    "df1_values = pd.Series(bootstrapping(df1_chosen))\n",
    "df2_values = pd.Series(bootstrapping(df2_chosen))\n",
    "df3_values = pd.Series(bootstrapping(df3_chosen))\n",
    "\n"
   ]
  },
  {
   "cell_type": "code",
   "execution_count": 12,
   "metadata": {},
   "outputs": [
    {
     "name": "stdout",
     "output_type": "stream",
     "text": [
      "Las ganancias y riesgos para la región 1 son las siguientes:\n",
      "\tLa ganancia promedio para la región es de: 9985294.424999248\n",
      "\tCon un 95% de probabilidad, se puede obtener una ganancia de al menos 9667073.346578106\n",
      "\n",
      "\n",
      "Las ganancias y riesgos para la región 2 son las siguientes:\n",
      "\tLa ganancia promedio para la región es de: 6214037.574598401\n",
      "\tCon un 95% de probabilidad, se puede obtener una ganancia de al menos 6199442.528220821\n",
      "\n",
      "\n",
      "Las ganancias y riesgos para la región 3 son las siguientes:\n",
      "\tLa ganancia promedio para la región es de: 8300780.82159329\n",
      "\tCon un 95% de probabilidad, se puede obtener una ganancia de al menos 8030415.205922347\n",
      "\n",
      "\n"
     ]
    }
   ],
   "source": [
    "# De los resultados del bootstrappping para conocer la distribución de nuestras predicciones, vamos a obtener el promedio \n",
    "# de la ganancia, así como su intervalo al 95% y los riesgos de perdidas para cada región\n",
    "\n",
    "regiones = [df1_values, df2_values, df3_values]\n",
    "\n",
    "i=1\n",
    "for region in regiones:\n",
    "    print(f\"Las ganancias y riesgos para la región {i} son las siguientes:\")\n",
    "    print(\"\\tLa ganancia promedio para la región es de:\", region.mean())\n",
    "    print(\"\\tCon un 95% de probabilidad, se puede obtener una ganancia de al menos\", region.quantile(q=0.05))\n",
    "    print(\"\\n\")\n",
    "    i+=1\n",
    "    \n",
    "\n",
    "    \n"
   ]
  },
  {
   "cell_type": "markdown",
   "metadata": {},
   "source": [
    "### Conclusión Final\n",
    "\n",
    "Al igual que en el paso 4, cuando calculamos la ganancia con base en las 200 predicciones de mayor valor, la región 1 es la que dará mayors beneficios a la empresa al calcularse una ganancia de 9.9 millones de dolares, esto calculado usando el método bootstrapping.\n",
    "\n",
    "La diferencia es el monto de ganancia obtenido usando todas las muestras de las predicciones y usando el bootstrapping. Ambos resultados son similares dado que, en el bootstrapping estamos creando submuestras con el 25% de los datos. Las ganancias que se calculan también son cerca del 25% del total de ganancias que se calcularon en el paso 4.\n",
    "\n",
    "No vemos pozos petroleros con riesgo de perdidas, dado que siguiendo las condiciones del ejercicio, se eligieron los 200 pozos de cada región con las mejores predicciones de producción y e eligieron con la condición de que tuvieran >111 miles de barriles. Esto hace que los pozos elejidos pertenecieran al cuartil encima del 75% basado en su volumen de producción para cada región. Es decir, el análisis se hizo sobre los mejores pozos, sin considerar aquellos pozos que tenian bajos niveles de producci´pon petrolera o casi nulo.\n",
    "\n",
    "Finalmente, la mejor región para la inversión para la contrucción de nuevos pozos petroleros es la REGIÓN NO. 1."
   ]
  }
 ],
 "metadata": {
  "ExecuteTimeLog": [
   {
    "duration": 1333,
    "start_time": "2025-03-02T17:01:04.405Z"
   },
   {
    "duration": 255,
    "start_time": "2025-03-02T17:04:12.763Z"
   },
   {
    "duration": 250,
    "start_time": "2025-03-02T17:04:21.214Z"
   },
   {
    "duration": 238,
    "start_time": "2025-03-02T17:06:23.148Z"
   },
   {
    "duration": 8,
    "start_time": "2025-03-02T17:12:41.257Z"
   },
   {
    "duration": 100,
    "start_time": "2025-03-02T17:23:51.139Z"
   },
   {
    "duration": 24,
    "start_time": "2025-03-02T17:24:19.600Z"
   },
   {
    "duration": 13,
    "start_time": "2025-03-02T17:26:58.495Z"
   },
   {
    "duration": 14,
    "start_time": "2025-03-02T17:27:07.433Z"
   },
   {
    "duration": 263,
    "start_time": "2025-03-02T17:27:15.418Z"
   },
   {
    "duration": 21,
    "start_time": "2025-03-02T17:27:28.960Z"
   },
   {
    "duration": 12,
    "start_time": "2025-03-02T17:27:35.771Z"
   },
   {
    "duration": 14,
    "start_time": "2025-03-02T17:29:54.911Z"
   },
   {
    "duration": 31,
    "start_time": "2025-03-02T17:32:07.684Z"
   },
   {
    "duration": 5,
    "start_time": "2025-03-02T17:32:29.930Z"
   },
   {
    "duration": 34,
    "start_time": "2025-03-02T17:32:51.164Z"
   },
   {
    "duration": 43,
    "start_time": "2025-03-02T17:37:16.461Z"
   },
   {
    "duration": 164,
    "start_time": "2025-03-06T00:27:21.250Z"
   },
   {
    "duration": 1177,
    "start_time": "2025-03-06T00:27:42.708Z"
   },
   {
    "duration": 11,
    "start_time": "2025-03-06T00:27:43.887Z"
   },
   {
    "duration": 41,
    "start_time": "2025-03-06T00:27:43.899Z"
   },
   {
    "duration": 58,
    "start_time": "2025-03-06T00:27:43.942Z"
   },
   {
    "duration": 6,
    "start_time": "2025-03-06T00:27:44.003Z"
   },
   {
    "duration": 223,
    "start_time": "2025-03-06T00:41:50.452Z"
   },
   {
    "duration": 15,
    "start_time": "2025-03-06T00:42:15.042Z"
   },
   {
    "duration": 17,
    "start_time": "2025-03-06T00:54:42.162Z"
   },
   {
    "duration": 159,
    "start_time": "2025-03-06T18:23:21.062Z"
   },
   {
    "duration": 1179,
    "start_time": "2025-03-06T18:23:35.497Z"
   },
   {
    "duration": 10,
    "start_time": "2025-03-06T18:23:36.678Z"
   },
   {
    "duration": 30,
    "start_time": "2025-03-06T18:23:36.690Z"
   },
   {
    "duration": 52,
    "start_time": "2025-03-06T18:23:36.721Z"
   },
   {
    "duration": 38,
    "start_time": "2025-03-06T18:23:36.776Z"
   },
   {
    "duration": 3,
    "start_time": "2025-03-06T18:23:36.816Z"
   },
   {
    "duration": 4,
    "start_time": "2025-03-06T18:24:46.774Z"
   },
   {
    "duration": 3,
    "start_time": "2025-03-06T18:25:21.264Z"
   },
   {
    "duration": 20,
    "start_time": "2025-03-06T18:25:35.107Z"
   },
   {
    "duration": 3,
    "start_time": "2025-03-06T18:25:37.936Z"
   },
   {
    "duration": 1039,
    "start_time": "2025-03-06T18:25:50.619Z"
   },
   {
    "duration": 9,
    "start_time": "2025-03-06T18:25:51.660Z"
   },
   {
    "duration": 36,
    "start_time": "2025-03-06T18:25:51.671Z"
   },
   {
    "duration": 48,
    "start_time": "2025-03-06T18:25:51.710Z"
   },
   {
    "duration": 52,
    "start_time": "2025-03-06T18:25:51.760Z"
   },
   {
    "duration": 3,
    "start_time": "2025-03-06T18:25:51.814Z"
   },
   {
    "duration": 3,
    "start_time": "2025-03-06T18:26:30.436Z"
   },
   {
    "duration": 5,
    "start_time": "2025-03-06T18:28:00.719Z"
   },
   {
    "duration": 168,
    "start_time": "2025-03-07T14:57:00.724Z"
   },
   {
    "duration": 1136,
    "start_time": "2025-03-07T14:57:07.118Z"
   },
   {
    "duration": 9,
    "start_time": "2025-03-07T14:57:08.256Z"
   },
   {
    "duration": 23,
    "start_time": "2025-03-07T14:57:08.267Z"
   },
   {
    "duration": 64,
    "start_time": "2025-03-07T14:57:08.292Z"
   },
   {
    "duration": 22,
    "start_time": "2025-03-07T14:57:08.358Z"
   },
   {
    "duration": 4,
    "start_time": "2025-03-07T14:57:08.382Z"
   },
   {
    "duration": 7,
    "start_time": "2025-03-07T15:12:16.171Z"
   },
   {
    "duration": 225,
    "start_time": "2025-03-07T15:12:37.557Z"
   },
   {
    "duration": 657,
    "start_time": "2025-03-07T15:13:05.568Z"
   },
   {
    "duration": 3,
    "start_time": "2025-03-07T15:13:34.499Z"
   },
   {
    "duration": 14,
    "start_time": "2025-03-07T15:39:18.155Z"
   },
   {
    "duration": 18,
    "start_time": "2025-03-07T15:40:17.611Z"
   },
   {
    "duration": 9,
    "start_time": "2025-03-07T15:41:38.366Z"
   },
   {
    "duration": 7,
    "start_time": "2025-03-07T15:42:46.996Z"
   },
   {
    "duration": 5,
    "start_time": "2025-03-07T15:43:45.262Z"
   },
   {
    "duration": 15,
    "start_time": "2025-03-07T15:46:19.011Z"
   },
   {
    "duration": 246,
    "start_time": "2025-03-07T15:59:16.128Z"
   },
   {
    "duration": 237,
    "start_time": "2025-03-07T15:59:26.263Z"
   },
   {
    "duration": 6,
    "start_time": "2025-03-07T15:59:37.645Z"
   },
   {
    "duration": 25,
    "start_time": "2025-03-07T16:00:07.598Z"
   },
   {
    "duration": 45,
    "start_time": "2025-03-07T16:02:42.187Z"
   },
   {
    "duration": 44,
    "start_time": "2025-03-07T17:11:22.206Z"
   },
   {
    "duration": 4,
    "start_time": "2025-03-07T17:11:35.145Z"
   },
   {
    "duration": 4,
    "start_time": "2025-03-07T17:11:42.410Z"
   },
   {
    "duration": 3,
    "start_time": "2025-03-07T17:12:01.754Z"
   },
   {
    "duration": 26,
    "start_time": "2025-03-07T17:13:48.679Z"
   },
   {
    "duration": 20,
    "start_time": "2025-03-07T17:13:58.316Z"
   },
   {
    "duration": 20,
    "start_time": "2025-03-07T17:14:05.059Z"
   },
   {
    "duration": 977,
    "start_time": "2025-03-07T17:14:24.121Z"
   },
   {
    "duration": 9,
    "start_time": "2025-03-07T17:14:25.100Z"
   },
   {
    "duration": 34,
    "start_time": "2025-03-07T17:14:25.123Z"
   },
   {
    "duration": 71,
    "start_time": "2025-03-07T17:14:25.160Z"
   },
   {
    "duration": 25,
    "start_time": "2025-03-07T17:14:25.233Z"
   },
   {
    "duration": 6,
    "start_time": "2025-03-07T17:14:25.261Z"
   },
   {
    "duration": 300,
    "start_time": "2025-03-07T17:14:25.269Z"
   },
   {
    "duration": 79,
    "start_time": "2025-03-07T17:14:25.575Z"
   },
   {
    "duration": 332,
    "start_time": "2025-03-07T17:16:35.506Z"
   },
   {
    "duration": 71,
    "start_time": "2025-03-07T17:16:52.475Z"
   },
   {
    "duration": 38,
    "start_time": "2025-03-07T17:17:03.043Z"
   },
   {
    "duration": 64,
    "start_time": "2025-03-07T17:17:34.061Z"
   },
   {
    "duration": 36,
    "start_time": "2025-03-07T17:19:31.660Z"
   },
   {
    "duration": 23,
    "start_time": "2025-03-07T17:19:41.465Z"
   },
   {
    "duration": 34,
    "start_time": "2025-03-07T17:21:09.912Z"
   },
   {
    "duration": 28,
    "start_time": "2025-03-07T17:22:21.691Z"
   },
   {
    "duration": 34,
    "start_time": "2025-03-07T17:22:30.222Z"
   },
   {
    "duration": 427,
    "start_time": "2025-03-07T17:25:24.224Z"
   },
   {
    "duration": 34,
    "start_time": "2025-03-07T17:27:07.928Z"
   },
   {
    "duration": 1119,
    "start_time": "2025-03-08T01:50:58.242Z"
   },
   {
    "duration": 10,
    "start_time": "2025-03-08T01:50:59.363Z"
   },
   {
    "duration": 37,
    "start_time": "2025-03-08T01:50:59.375Z"
   },
   {
    "duration": 52,
    "start_time": "2025-03-08T01:50:59.414Z"
   },
   {
    "duration": 39,
    "start_time": "2025-03-08T01:50:59.468Z"
   },
   {
    "duration": 5,
    "start_time": "2025-03-08T01:50:59.509Z"
   },
   {
    "duration": 206,
    "start_time": "2025-03-08T01:50:59.520Z"
   },
   {
    "duration": 102,
    "start_time": "2025-03-08T01:50:59.804Z"
   },
   {
    "duration": 180,
    "start_time": "2025-03-08T02:00:47.325Z"
   },
   {
    "duration": 99,
    "start_time": "2025-03-08T02:01:11.419Z"
   },
   {
    "duration": 124,
    "start_time": "2025-03-08T02:01:27.885Z"
   },
   {
    "duration": 59,
    "start_time": "2025-03-08T02:01:38.466Z"
   },
   {
    "duration": 409,
    "start_time": "2025-03-08T02:08:55.849Z"
   },
   {
    "duration": 169,
    "start_time": "2025-03-08T02:11:27.837Z"
   },
   {
    "duration": 15,
    "start_time": "2025-03-08T02:47:08.553Z"
   },
   {
    "duration": 4,
    "start_time": "2025-03-08T02:48:10.709Z"
   },
   {
    "duration": 17,
    "start_time": "2025-03-08T02:48:18.215Z"
   },
   {
    "duration": 14,
    "start_time": "2025-03-08T02:50:24.903Z"
   },
   {
    "duration": 5,
    "start_time": "2025-03-08T02:50:35.996Z"
   },
   {
    "duration": 7,
    "start_time": "2025-03-08T02:50:52.419Z"
   },
   {
    "duration": 17,
    "start_time": "2025-03-08T02:54:26.479Z"
   },
   {
    "duration": 19,
    "start_time": "2025-03-08T02:55:22.945Z"
   },
   {
    "duration": 8,
    "start_time": "2025-03-08T02:57:34.043Z"
   },
   {
    "duration": 9,
    "start_time": "2025-03-08T02:58:57.318Z"
   },
   {
    "duration": 8,
    "start_time": "2025-03-08T02:59:13.242Z"
   },
   {
    "duration": 9,
    "start_time": "2025-03-08T03:00:20.378Z"
   },
   {
    "duration": 17,
    "start_time": "2025-03-08T03:05:51.034Z"
   },
   {
    "duration": 10,
    "start_time": "2025-03-08T03:07:00.136Z"
   },
   {
    "duration": 12,
    "start_time": "2025-03-08T03:07:26.170Z"
   },
   {
    "duration": 14,
    "start_time": "2025-03-08T03:07:42.829Z"
   },
   {
    "duration": 6,
    "start_time": "2025-03-08T03:08:56.867Z"
   },
   {
    "duration": 10,
    "start_time": "2025-03-08T03:11:31.183Z"
   },
   {
    "duration": 1063,
    "start_time": "2025-03-08T03:15:04.594Z"
   },
   {
    "duration": 12,
    "start_time": "2025-03-08T03:15:05.661Z"
   },
   {
    "duration": 24,
    "start_time": "2025-03-08T03:15:05.674Z"
   },
   {
    "duration": 49,
    "start_time": "2025-03-08T03:15:05.706Z"
   },
   {
    "duration": 48,
    "start_time": "2025-03-08T03:15:05.758Z"
   },
   {
    "duration": 5,
    "start_time": "2025-03-08T03:15:05.807Z"
   },
   {
    "duration": 214,
    "start_time": "2025-03-08T03:15:05.814Z"
   },
   {
    "duration": 210,
    "start_time": "2025-03-08T03:15:06.106Z"
   },
   {
    "duration": 87,
    "start_time": "2025-03-08T03:15:06.318Z"
   },
   {
    "duration": 3,
    "start_time": "2025-03-08T03:27:13.142Z"
   },
   {
    "duration": 10,
    "start_time": "2025-03-08T03:27:28.088Z"
   },
   {
    "duration": 2,
    "start_time": "2025-03-08T03:27:30.827Z"
   },
   {
    "duration": 5,
    "start_time": "2025-03-08T03:28:23.083Z"
   },
   {
    "duration": 6,
    "start_time": "2025-03-08T03:29:19.747Z"
   },
   {
    "duration": 4,
    "start_time": "2025-03-08T03:29:29.158Z"
   },
   {
    "duration": 6,
    "start_time": "2025-03-08T03:30:12.000Z"
   },
   {
    "duration": 7,
    "start_time": "2025-03-08T03:37:55.534Z"
   },
   {
    "duration": 4,
    "start_time": "2025-03-08T03:39:49.134Z"
   },
   {
    "duration": 4,
    "start_time": "2025-03-08T03:40:32.401Z"
   },
   {
    "duration": 4,
    "start_time": "2025-03-08T03:41:05.157Z"
   },
   {
    "duration": 1009,
    "start_time": "2025-03-08T03:41:25.559Z"
   },
   {
    "duration": 9,
    "start_time": "2025-03-08T03:41:26.570Z"
   },
   {
    "duration": 32,
    "start_time": "2025-03-08T03:41:26.580Z"
   },
   {
    "duration": 51,
    "start_time": "2025-03-08T03:41:26.614Z"
   },
   {
    "duration": 41,
    "start_time": "2025-03-08T03:41:26.667Z"
   },
   {
    "duration": 7,
    "start_time": "2025-03-08T03:41:26.710Z"
   },
   {
    "duration": 205,
    "start_time": "2025-03-08T03:41:26.719Z"
   },
   {
    "duration": 285,
    "start_time": "2025-03-08T03:41:26.927Z"
   },
   {
    "duration": 12,
    "start_time": "2025-03-08T03:41:27.214Z"
   },
   {
    "duration": 77,
    "start_time": "2025-03-08T03:41:27.229Z"
   },
   {
    "duration": 6,
    "start_time": "2025-03-08T03:42:40.577Z"
   },
   {
    "duration": 5,
    "start_time": "2025-03-08T03:42:57.696Z"
   },
   {
    "duration": 4,
    "start_time": "2025-03-08T03:43:27.714Z"
   },
   {
    "duration": 5,
    "start_time": "2025-03-08T03:49:46.069Z"
   },
   {
    "duration": 5,
    "start_time": "2025-03-08T03:49:53.194Z"
   },
   {
    "duration": 1191,
    "start_time": "2025-03-08T16:09:23.000Z"
   },
   {
    "duration": 11,
    "start_time": "2025-03-08T16:09:24.194Z"
   },
   {
    "duration": 54,
    "start_time": "2025-03-08T16:09:24.207Z"
   },
   {
    "duration": 94,
    "start_time": "2025-03-08T16:09:24.263Z"
   },
   {
    "duration": 24,
    "start_time": "2025-03-08T16:09:24.360Z"
   },
   {
    "duration": 5,
    "start_time": "2025-03-08T16:09:24.386Z"
   },
   {
    "duration": 208,
    "start_time": "2025-03-08T16:09:24.425Z"
   },
   {
    "duration": 214,
    "start_time": "2025-03-08T16:09:24.635Z"
   },
   {
    "duration": 80,
    "start_time": "2025-03-08T16:09:24.851Z"
   },
   {
    "duration": 5,
    "start_time": "2025-03-08T16:09:24.935Z"
   },
   {
    "duration": 1130,
    "start_time": "2025-03-08T18:49:01.303Z"
   },
   {
    "duration": 10,
    "start_time": "2025-03-08T18:49:02.436Z"
   },
   {
    "duration": 30,
    "start_time": "2025-03-08T18:49:02.447Z"
   },
   {
    "duration": 74,
    "start_time": "2025-03-08T18:49:02.479Z"
   },
   {
    "duration": 23,
    "start_time": "2025-03-08T18:49:02.555Z"
   },
   {
    "duration": 48,
    "start_time": "2025-03-08T18:49:02.580Z"
   },
   {
    "duration": 297,
    "start_time": "2025-03-08T18:49:02.631Z"
   },
   {
    "duration": 294,
    "start_time": "2025-03-08T18:49:02.933Z"
   },
   {
    "duration": 10,
    "start_time": "2025-03-08T18:49:03.232Z"
   },
   {
    "duration": 4,
    "start_time": "2025-03-08T18:49:03.244Z"
   },
   {
    "duration": 9,
    "start_time": "2025-03-08T18:50:27.068Z"
   },
   {
    "duration": 148,
    "start_time": "2025-03-08T18:50:43.631Z"
   },
   {
    "duration": 83,
    "start_time": "2025-03-08T18:51:16.148Z"
   },
   {
    "duration": 67,
    "start_time": "2025-03-08T18:53:19.650Z"
   },
   {
    "duration": 78,
    "start_time": "2025-03-08T18:54:17.547Z"
   },
   {
    "duration": 6,
    "start_time": "2025-03-08T18:56:33.888Z"
   },
   {
    "duration": 136,
    "start_time": "2025-03-08T18:56:42.718Z"
   },
   {
    "duration": 107,
    "start_time": "2025-03-08T18:57:22.502Z"
   },
   {
    "duration": 118,
    "start_time": "2025-03-08T19:05:15.693Z"
   },
   {
    "duration": 115,
    "start_time": "2025-03-08T19:05:53.703Z"
   },
   {
    "duration": 121,
    "start_time": "2025-03-08T19:07:15.385Z"
   },
   {
    "duration": 112,
    "start_time": "2025-03-08T19:08:59.020Z"
   },
   {
    "duration": 111,
    "start_time": "2025-03-08T19:09:17.170Z"
   },
   {
    "duration": 334,
    "start_time": "2025-03-08T19:17:33.596Z"
   },
   {
    "duration": 6,
    "start_time": "2025-03-08T19:24:51.288Z"
   },
   {
    "duration": 6,
    "start_time": "2025-03-08T19:25:25.679Z"
   },
   {
    "duration": 1019,
    "start_time": "2025-03-08T19:45:46.768Z"
   },
   {
    "duration": 9,
    "start_time": "2025-03-08T19:45:47.790Z"
   },
   {
    "duration": 35,
    "start_time": "2025-03-08T19:45:47.800Z"
   },
   {
    "duration": 46,
    "start_time": "2025-03-08T19:45:47.837Z"
   },
   {
    "duration": 38,
    "start_time": "2025-03-08T19:45:47.886Z"
   },
   {
    "duration": 15,
    "start_time": "2025-03-08T19:45:47.926Z"
   },
   {
    "duration": 194,
    "start_time": "2025-03-08T19:45:47.945Z"
   },
   {
    "duration": 290,
    "start_time": "2025-03-08T19:45:48.144Z"
   },
   {
    "duration": 88,
    "start_time": "2025-03-08T19:45:48.436Z"
   },
   {
    "duration": 4,
    "start_time": "2025-03-08T19:45:48.526Z"
   },
   {
    "duration": 349,
    "start_time": "2025-03-08T19:45:48.532Z"
   },
   {
    "duration": 6,
    "start_time": "2025-03-08T19:45:48.883Z"
   }
  ],
  "kernelspec": {
   "display_name": "Python 3",
   "language": "python",
   "name": "python3"
  },
  "language_info": {
   "codemirror_mode": {
    "name": "ipython",
    "version": 3
   },
   "file_extension": ".py",
   "mimetype": "text/x-python",
   "name": "python",
   "nbconvert_exporter": "python",
   "pygments_lexer": "ipython3",
   "version": "3.12.6"
  },
  "toc": {
   "base_numbering": 1,
   "nav_menu": {},
   "number_sections": true,
   "sideBar": true,
   "skip_h1_title": true,
   "title_cell": "Table of Contents",
   "title_sidebar": "Contents",
   "toc_cell": false,
   "toc_position": {},
   "toc_section_display": true,
   "toc_window_display": false
  }
 },
 "nbformat": 4,
 "nbformat_minor": 2
}
